{
 "cells": [
  {
   "cell_type": "code",
   "execution_count": 5,
   "id": "2b20e6c1-42d0-4e58-aa65-b3649940304d",
   "metadata": {},
   "outputs": [
    {
     "name": "stdout",
     "output_type": "stream",
     "text": [
      "hello\n",
      "Python 3.12.3\n"
     ]
    }
   ],
   "source": [
    "print(\"hello\")\n",
    "\n",
    "# Exercise ch1 1a & ch1 2a\n",
    "!python --version"
   ]
  },
  {
   "cell_type": "code",
   "execution_count": 2,
   "id": "00f0103b-79fa-469d-9a38-bc4983f2bdbb",
   "metadata": {},
   "outputs": [],
   "source": [
    "# Exercise ch1 1b\n",
    "import torch"
   ]
  },
  {
   "cell_type": "code",
   "execution_count": 6,
   "id": "d14e8aa3-0d1c-4bd3-8cb5-666106528424",
   "metadata": {},
   "outputs": [
    {
     "data": {
      "text/plain": [
       "False"
      ]
     },
     "execution_count": 6,
     "metadata": {},
     "output_type": "execute_result"
    }
   ],
   "source": [
    "# Exercise ch1 1c\n",
    "torch.cuda.is_available() # False on macbook pro 2021, 14, m1 max chip. TODO: retry on the nvidia 4090 machine"
   ]
  },
  {
   "cell_type": "code",
   "execution_count": 7,
   "id": "7c21a440-f0b6-4b15-90ac-bbe14ab7708e",
   "metadata": {},
   "outputs": [
    {
     "name": "stdout",
     "output_type": "stream",
     "text": [
      "/Users/stevenli/Documents/github/steven4354/deep-learning-pytorch-book/myenv/lib/python3.12/site-packages/torch/__init__.py\n"
     ]
    }
   ],
   "source": [
    "# Exercise ch1 2b (figure out location of torch library)\n",
    "print(torch.__file__) # should show up as in the virtual environment"
   ]
  }
 ],
 "metadata": {
  "kernelspec": {
   "display_name": "Python 3 (ipykernel)",
   "language": "python",
   "name": "python3"
  },
  "language_info": {
   "codemirror_mode": {
    "name": "ipython",
    "version": 3
   },
   "file_extension": ".py",
   "mimetype": "text/x-python",
   "name": "python",
   "nbconvert_exporter": "python",
   "pygments_lexer": "ipython3",
   "version": "3.12.3"
  }
 },
 "nbformat": 4,
 "nbformat_minor": 5
}
