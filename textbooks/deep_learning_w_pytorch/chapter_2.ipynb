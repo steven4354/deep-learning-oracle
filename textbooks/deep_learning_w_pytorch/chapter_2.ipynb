{
 "cells": [
  {
   "cell_type": "code",
   "execution_count": null,
   "metadata": {},
   "outputs": [],
   "source": []
  },
  {
   "cell_type": "markdown",
   "metadata": {},
   "source": [
    "Need to download this to do\n",
    "\n",
    "http://efrosgans.eecs.berkeley.edu/cyclegan/pretrained_models/\n",
    "\n",
    "https://www.perplexity.ai/search/use-pytorch-and-EQg6CxtMQdOvh6R9GMYmug"
   ]
  }
 ],
 "metadata": {
  "language_info": {
   "name": "python"
  }
 },
 "nbformat": 4,
 "nbformat_minor": 2
}
